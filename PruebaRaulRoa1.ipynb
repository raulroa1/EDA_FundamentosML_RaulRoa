{
  "nbformat": 4,
  "nbformat_minor": 0,
  "metadata": {
    "colab": {
      "provenance": []
    },
    "kernelspec": {
      "name": "python3",
      "display_name": "Python 3"
    },
    "language_info": {
      "name": "python"
    }
  },
  "cells": [
    {
      "cell_type": "code",
      "execution_count": null,
      "metadata": {
        "id": "4B7drqnRWhAj"
      },
      "outputs": [],
      "source": [
        "import numpy as np # Programación vectorial\n",
        "import matplotlib.pyplot as plt # Visualización\n",
        "import pandas as pd # Estructura y manipulación de datos"
      ]
    },
    {
      "cell_type": "code",
      "source": [
        "from google.colab import drive\n",
        "drive.mount('/content/drive')"
      ],
      "metadata": {
        "colab": {
          "base_uri": "https://localhost:8080/"
        },
        "id": "65uyWLUIWkG5",
        "outputId": "b658664d-b3fb-438a-d90b-ecbfc43749d9"
      },
      "execution_count": null,
      "outputs": [
        {
          "output_type": "stream",
          "name": "stdout",
          "text": [
            "Mounted at /content/drive\n"
          ]
        }
      ]
    },
    {
      "cell_type": "code",
      "source": [
        "url = '/content/drive/MyDrive/Machine Learning/Prueba1/WA_Fn-UseC_-HR-Employee-Attrition.csv'\n",
        "df = pd.read_csv(url, sep=\",\", encoding='utf-8')"
      ],
      "metadata": {
        "id": "hF1ze04vXBX2"
      },
      "execution_count": 6,
      "outputs": []
    },
    {
      "cell_type": "code",
      "source": [
        "df.head()"
      ],
      "metadata": {
        "colab": {
          "base_uri": "https://localhost:8080/",
          "height": 325
        },
        "id": "c0FUueoDZ8nH",
        "outputId": "02ca6b76-d252-4af2-9014-b74a6057bb67"
      },
      "execution_count": 7,
      "outputs": [
        {
          "output_type": "execute_result",
          "data": {
            "text/plain": [
              "   Age Attrition     BusinessTravel  DailyRate              Department  \\\n",
              "0   41       Yes      Travel_Rarely       1102                   Sales   \n",
              "1   49        No  Travel_Frequently        279  Research & Development   \n",
              "2   37       Yes      Travel_Rarely       1373  Research & Development   \n",
              "3   33        No  Travel_Frequently       1392  Research & Development   \n",
              "4   27        No      Travel_Rarely        591  Research & Development   \n",
              "\n",
              "   DistanceFromHome  Education EducationField  EmployeeCount  EmployeeNumber  \\\n",
              "0                 1          2  Life Sciences              1               1   \n",
              "1                 8          1  Life Sciences              1               2   \n",
              "2                 2          2          Other              1               4   \n",
              "3                 3          4  Life Sciences              1               5   \n",
              "4                 2          1        Medical              1               7   \n",
              "\n",
              "   ...  RelationshipSatisfaction StandardHours  StockOptionLevel  \\\n",
              "0  ...                         1            80                 0   \n",
              "1  ...                         4            80                 1   \n",
              "2  ...                         2            80                 0   \n",
              "3  ...                         3            80                 0   \n",
              "4  ...                         4            80                 1   \n",
              "\n",
              "   TotalWorkingYears  TrainingTimesLastYear WorkLifeBalance  YearsAtCompany  \\\n",
              "0                  8                      0               1               6   \n",
              "1                 10                      3               3              10   \n",
              "2                  7                      3               3               0   \n",
              "3                  8                      3               3               8   \n",
              "4                  6                      3               3               2   \n",
              "\n",
              "  YearsInCurrentRole  YearsSinceLastPromotion  YearsWithCurrManager  \n",
              "0                  4                        0                     5  \n",
              "1                  7                        1                     7  \n",
              "2                  0                        0                     0  \n",
              "3                  7                        3                     0  \n",
              "4                  2                        2                     2  \n",
              "\n",
              "[5 rows x 35 columns]"
            ],
            "text/html": [
              "\n",
              "  <div id=\"df-6b7e8b3e-f3e6-470f-8f66-cf0e12f8620f\" class=\"colab-df-container\">\n",
              "    <div>\n",
              "<style scoped>\n",
              "    .dataframe tbody tr th:only-of-type {\n",
              "        vertical-align: middle;\n",
              "    }\n",
              "\n",
              "    .dataframe tbody tr th {\n",
              "        vertical-align: top;\n",
              "    }\n",
              "\n",
              "    .dataframe thead th {\n",
              "        text-align: right;\n",
              "    }\n",
              "</style>\n",
              "<table border=\"1\" class=\"dataframe\">\n",
              "  <thead>\n",
              "    <tr style=\"text-align: right;\">\n",
              "      <th></th>\n",
              "      <th>Age</th>\n",
              "      <th>Attrition</th>\n",
              "      <th>BusinessTravel</th>\n",
              "      <th>DailyRate</th>\n",
              "      <th>Department</th>\n",
              "      <th>DistanceFromHome</th>\n",
              "      <th>Education</th>\n",
              "      <th>EducationField</th>\n",
              "      <th>EmployeeCount</th>\n",
              "      <th>EmployeeNumber</th>\n",
              "      <th>...</th>\n",
              "      <th>RelationshipSatisfaction</th>\n",
              "      <th>StandardHours</th>\n",
              "      <th>StockOptionLevel</th>\n",
              "      <th>TotalWorkingYears</th>\n",
              "      <th>TrainingTimesLastYear</th>\n",
              "      <th>WorkLifeBalance</th>\n",
              "      <th>YearsAtCompany</th>\n",
              "      <th>YearsInCurrentRole</th>\n",
              "      <th>YearsSinceLastPromotion</th>\n",
              "      <th>YearsWithCurrManager</th>\n",
              "    </tr>\n",
              "  </thead>\n",
              "  <tbody>\n",
              "    <tr>\n",
              "      <th>0</th>\n",
              "      <td>41</td>\n",
              "      <td>Yes</td>\n",
              "      <td>Travel_Rarely</td>\n",
              "      <td>1102</td>\n",
              "      <td>Sales</td>\n",
              "      <td>1</td>\n",
              "      <td>2</td>\n",
              "      <td>Life Sciences</td>\n",
              "      <td>1</td>\n",
              "      <td>1</td>\n",
              "      <td>...</td>\n",
              "      <td>1</td>\n",
              "      <td>80</td>\n",
              "      <td>0</td>\n",
              "      <td>8</td>\n",
              "      <td>0</td>\n",
              "      <td>1</td>\n",
              "      <td>6</td>\n",
              "      <td>4</td>\n",
              "      <td>0</td>\n",
              "      <td>5</td>\n",
              "    </tr>\n",
              "    <tr>\n",
              "      <th>1</th>\n",
              "      <td>49</td>\n",
              "      <td>No</td>\n",
              "      <td>Travel_Frequently</td>\n",
              "      <td>279</td>\n",
              "      <td>Research &amp; Development</td>\n",
              "      <td>8</td>\n",
              "      <td>1</td>\n",
              "      <td>Life Sciences</td>\n",
              "      <td>1</td>\n",
              "      <td>2</td>\n",
              "      <td>...</td>\n",
              "      <td>4</td>\n",
              "      <td>80</td>\n",
              "      <td>1</td>\n",
              "      <td>10</td>\n",
              "      <td>3</td>\n",
              "      <td>3</td>\n",
              "      <td>10</td>\n",
              "      <td>7</td>\n",
              "      <td>1</td>\n",
              "      <td>7</td>\n",
              "    </tr>\n",
              "    <tr>\n",
              "      <th>2</th>\n",
              "      <td>37</td>\n",
              "      <td>Yes</td>\n",
              "      <td>Travel_Rarely</td>\n",
              "      <td>1373</td>\n",
              "      <td>Research &amp; Development</td>\n",
              "      <td>2</td>\n",
              "      <td>2</td>\n",
              "      <td>Other</td>\n",
              "      <td>1</td>\n",
              "      <td>4</td>\n",
              "      <td>...</td>\n",
              "      <td>2</td>\n",
              "      <td>80</td>\n",
              "      <td>0</td>\n",
              "      <td>7</td>\n",
              "      <td>3</td>\n",
              "      <td>3</td>\n",
              "      <td>0</td>\n",
              "      <td>0</td>\n",
              "      <td>0</td>\n",
              "      <td>0</td>\n",
              "    </tr>\n",
              "    <tr>\n",
              "      <th>3</th>\n",
              "      <td>33</td>\n",
              "      <td>No</td>\n",
              "      <td>Travel_Frequently</td>\n",
              "      <td>1392</td>\n",
              "      <td>Research &amp; Development</td>\n",
              "      <td>3</td>\n",
              "      <td>4</td>\n",
              "      <td>Life Sciences</td>\n",
              "      <td>1</td>\n",
              "      <td>5</td>\n",
              "      <td>...</td>\n",
              "      <td>3</td>\n",
              "      <td>80</td>\n",
              "      <td>0</td>\n",
              "      <td>8</td>\n",
              "      <td>3</td>\n",
              "      <td>3</td>\n",
              "      <td>8</td>\n",
              "      <td>7</td>\n",
              "      <td>3</td>\n",
              "      <td>0</td>\n",
              "    </tr>\n",
              "    <tr>\n",
              "      <th>4</th>\n",
              "      <td>27</td>\n",
              "      <td>No</td>\n",
              "      <td>Travel_Rarely</td>\n",
              "      <td>591</td>\n",
              "      <td>Research &amp; Development</td>\n",
              "      <td>2</td>\n",
              "      <td>1</td>\n",
              "      <td>Medical</td>\n",
              "      <td>1</td>\n",
              "      <td>7</td>\n",
              "      <td>...</td>\n",
              "      <td>4</td>\n",
              "      <td>80</td>\n",
              "      <td>1</td>\n",
              "      <td>6</td>\n",
              "      <td>3</td>\n",
              "      <td>3</td>\n",
              "      <td>2</td>\n",
              "      <td>2</td>\n",
              "      <td>2</td>\n",
              "      <td>2</td>\n",
              "    </tr>\n",
              "  </tbody>\n",
              "</table>\n",
              "<p>5 rows × 35 columns</p>\n",
              "</div>\n",
              "    <div class=\"colab-df-buttons\">\n",
              "\n",
              "  <div class=\"colab-df-container\">\n",
              "    <button class=\"colab-df-convert\" onclick=\"convertToInteractive('df-6b7e8b3e-f3e6-470f-8f66-cf0e12f8620f')\"\n",
              "            title=\"Convert this dataframe to an interactive table.\"\n",
              "            style=\"display:none;\">\n",
              "\n",
              "  <svg xmlns=\"http://www.w3.org/2000/svg\" height=\"24px\" viewBox=\"0 -960 960 960\">\n",
              "    <path d=\"M120-120v-720h720v720H120Zm60-500h600v-160H180v160Zm220 220h160v-160H400v160Zm0 220h160v-160H400v160ZM180-400h160v-160H180v160Zm440 0h160v-160H620v160ZM180-180h160v-160H180v160Zm440 0h160v-160H620v160Z\"/>\n",
              "  </svg>\n",
              "    </button>\n",
              "\n",
              "  <style>\n",
              "    .colab-df-container {\n",
              "      display:flex;\n",
              "      gap: 12px;\n",
              "    }\n",
              "\n",
              "    .colab-df-convert {\n",
              "      background-color: #E8F0FE;\n",
              "      border: none;\n",
              "      border-radius: 50%;\n",
              "      cursor: pointer;\n",
              "      display: none;\n",
              "      fill: #1967D2;\n",
              "      height: 32px;\n",
              "      padding: 0 0 0 0;\n",
              "      width: 32px;\n",
              "    }\n",
              "\n",
              "    .colab-df-convert:hover {\n",
              "      background-color: #E2EBFA;\n",
              "      box-shadow: 0px 1px 2px rgba(60, 64, 67, 0.3), 0px 1px 3px 1px rgba(60, 64, 67, 0.15);\n",
              "      fill: #174EA6;\n",
              "    }\n",
              "\n",
              "    .colab-df-buttons div {\n",
              "      margin-bottom: 4px;\n",
              "    }\n",
              "\n",
              "    [theme=dark] .colab-df-convert {\n",
              "      background-color: #3B4455;\n",
              "      fill: #D2E3FC;\n",
              "    }\n",
              "\n",
              "    [theme=dark] .colab-df-convert:hover {\n",
              "      background-color: #434B5C;\n",
              "      box-shadow: 0px 1px 3px 1px rgba(0, 0, 0, 0.15);\n",
              "      filter: drop-shadow(0px 1px 2px rgba(0, 0, 0, 0.3));\n",
              "      fill: #FFFFFF;\n",
              "    }\n",
              "  </style>\n",
              "\n",
              "    <script>\n",
              "      const buttonEl =\n",
              "        document.querySelector('#df-6b7e8b3e-f3e6-470f-8f66-cf0e12f8620f button.colab-df-convert');\n",
              "      buttonEl.style.display =\n",
              "        google.colab.kernel.accessAllowed ? 'block' : 'none';\n",
              "\n",
              "      async function convertToInteractive(key) {\n",
              "        const element = document.querySelector('#df-6b7e8b3e-f3e6-470f-8f66-cf0e12f8620f');\n",
              "        const dataTable =\n",
              "          await google.colab.kernel.invokeFunction('convertToInteractive',\n",
              "                                                    [key], {});\n",
              "        if (!dataTable) return;\n",
              "\n",
              "        const docLinkHtml = 'Like what you see? Visit the ' +\n",
              "          '<a target=\"_blank\" href=https://colab.research.google.com/notebooks/data_table.ipynb>data table notebook</a>'\n",
              "          + ' to learn more about interactive tables.';\n",
              "        element.innerHTML = '';\n",
              "        dataTable['output_type'] = 'display_data';\n",
              "        await google.colab.output.renderOutput(dataTable, element);\n",
              "        const docLink = document.createElement('div');\n",
              "        docLink.innerHTML = docLinkHtml;\n",
              "        element.appendChild(docLink);\n",
              "      }\n",
              "    </script>\n",
              "  </div>\n",
              "\n",
              "\n",
              "<div id=\"df-bdff01aa-1640-48f4-bd40-e5e8fd3988de\">\n",
              "  <button class=\"colab-df-quickchart\" onclick=\"quickchart('df-bdff01aa-1640-48f4-bd40-e5e8fd3988de')\"\n",
              "            title=\"Suggest charts\"\n",
              "            style=\"display:none;\">\n",
              "\n",
              "<svg xmlns=\"http://www.w3.org/2000/svg\" height=\"24px\"viewBox=\"0 0 24 24\"\n",
              "     width=\"24px\">\n",
              "    <g>\n",
              "        <path d=\"M19 3H5c-1.1 0-2 .9-2 2v14c0 1.1.9 2 2 2h14c1.1 0 2-.9 2-2V5c0-1.1-.9-2-2-2zM9 17H7v-7h2v7zm4 0h-2V7h2v10zm4 0h-2v-4h2v4z\"/>\n",
              "    </g>\n",
              "</svg>\n",
              "  </button>\n",
              "\n",
              "<style>\n",
              "  .colab-df-quickchart {\n",
              "      --bg-color: #E8F0FE;\n",
              "      --fill-color: #1967D2;\n",
              "      --hover-bg-color: #E2EBFA;\n",
              "      --hover-fill-color: #174EA6;\n",
              "      --disabled-fill-color: #AAA;\n",
              "      --disabled-bg-color: #DDD;\n",
              "  }\n",
              "\n",
              "  [theme=dark] .colab-df-quickchart {\n",
              "      --bg-color: #3B4455;\n",
              "      --fill-color: #D2E3FC;\n",
              "      --hover-bg-color: #434B5C;\n",
              "      --hover-fill-color: #FFFFFF;\n",
              "      --disabled-bg-color: #3B4455;\n",
              "      --disabled-fill-color: #666;\n",
              "  }\n",
              "\n",
              "  .colab-df-quickchart {\n",
              "    background-color: var(--bg-color);\n",
              "    border: none;\n",
              "    border-radius: 50%;\n",
              "    cursor: pointer;\n",
              "    display: none;\n",
              "    fill: var(--fill-color);\n",
              "    height: 32px;\n",
              "    padding: 0;\n",
              "    width: 32px;\n",
              "  }\n",
              "\n",
              "  .colab-df-quickchart:hover {\n",
              "    background-color: var(--hover-bg-color);\n",
              "    box-shadow: 0 1px 2px rgba(60, 64, 67, 0.3), 0 1px 3px 1px rgba(60, 64, 67, 0.15);\n",
              "    fill: var(--button-hover-fill-color);\n",
              "  }\n",
              "\n",
              "  .colab-df-quickchart-complete:disabled,\n",
              "  .colab-df-quickchart-complete:disabled:hover {\n",
              "    background-color: var(--disabled-bg-color);\n",
              "    fill: var(--disabled-fill-color);\n",
              "    box-shadow: none;\n",
              "  }\n",
              "\n",
              "  .colab-df-spinner {\n",
              "    border: 2px solid var(--fill-color);\n",
              "    border-color: transparent;\n",
              "    border-bottom-color: var(--fill-color);\n",
              "    animation:\n",
              "      spin 1s steps(1) infinite;\n",
              "  }\n",
              "\n",
              "  @keyframes spin {\n",
              "    0% {\n",
              "      border-color: transparent;\n",
              "      border-bottom-color: var(--fill-color);\n",
              "      border-left-color: var(--fill-color);\n",
              "    }\n",
              "    20% {\n",
              "      border-color: transparent;\n",
              "      border-left-color: var(--fill-color);\n",
              "      border-top-color: var(--fill-color);\n",
              "    }\n",
              "    30% {\n",
              "      border-color: transparent;\n",
              "      border-left-color: var(--fill-color);\n",
              "      border-top-color: var(--fill-color);\n",
              "      border-right-color: var(--fill-color);\n",
              "    }\n",
              "    40% {\n",
              "      border-color: transparent;\n",
              "      border-right-color: var(--fill-color);\n",
              "      border-top-color: var(--fill-color);\n",
              "    }\n",
              "    60% {\n",
              "      border-color: transparent;\n",
              "      border-right-color: var(--fill-color);\n",
              "    }\n",
              "    80% {\n",
              "      border-color: transparent;\n",
              "      border-right-color: var(--fill-color);\n",
              "      border-bottom-color: var(--fill-color);\n",
              "    }\n",
              "    90% {\n",
              "      border-color: transparent;\n",
              "      border-bottom-color: var(--fill-color);\n",
              "    }\n",
              "  }\n",
              "</style>\n",
              "\n",
              "  <script>\n",
              "    async function quickchart(key) {\n",
              "      const quickchartButtonEl =\n",
              "        document.querySelector('#' + key + ' button');\n",
              "      quickchartButtonEl.disabled = true;  // To prevent multiple clicks.\n",
              "      quickchartButtonEl.classList.add('colab-df-spinner');\n",
              "      try {\n",
              "        const charts = await google.colab.kernel.invokeFunction(\n",
              "            'suggestCharts', [key], {});\n",
              "      } catch (error) {\n",
              "        console.error('Error during call to suggestCharts:', error);\n",
              "      }\n",
              "      quickchartButtonEl.classList.remove('colab-df-spinner');\n",
              "      quickchartButtonEl.classList.add('colab-df-quickchart-complete');\n",
              "    }\n",
              "    (() => {\n",
              "      let quickchartButtonEl =\n",
              "        document.querySelector('#df-bdff01aa-1640-48f4-bd40-e5e8fd3988de button');\n",
              "      quickchartButtonEl.style.display =\n",
              "        google.colab.kernel.accessAllowed ? 'block' : 'none';\n",
              "    })();\n",
              "  </script>\n",
              "</div>\n",
              "\n",
              "    </div>\n",
              "  </div>\n"
            ],
            "application/vnd.google.colaboratory.intrinsic+json": {
              "type": "dataframe",
              "variable_name": "df"
            }
          },
          "metadata": {},
          "execution_count": 7
        }
      ]
    },
    {
      "cell_type": "markdown",
      "source": [
        "Age: Edad del empleado. (Numérica)<br><br>\n",
        "Attrition: Si el empleado dejó la empresa o no (Sí/No). (Categórica)<br>\n",
        "<br>BusinessTravel: Frecuencia de viajes de negocios (Sin viajes, viajes poco frecuentes, viajes frecuentes). (Categórica)<br><br>\n",
        "DailyRate: Tarifa diaria de pago del empleado. (Numérica)<br><br>\n",
        "Department: Departamento al que pertenece el empleado (por ejemplo, Ventas, I + D, Recursos Humanos). (Categórica)<br><br>\n",
        "DistanceFromHome: Distancia desde la casa del empleado hasta el lugar de trabajo. (Numérica)<br><br>\n",
        "Education: Nivel de educación del empleado (por ejemplo, 1: Secundaria, 2:Bachillerato, 3:Universidad, 4:Maestría, 5:Doctorado). (Categórica ordinal)<br><br>\n",
        "EducationField: Campo de estudio del empleado (por ejemplo, Ciencias de la vida, Médica, Marketing, Recursos humanos, Técnica, Otro). (Categórica)<br><br>\n",
        "EmployeeCount: Este campo parece redundante ya que todos los valores son 1. (Numérica)<br><br>\n",
        "EmployeeNumber: Número de identificación único del empleado. (Numérica)<br><br>\n",
        "EnvironmentSatisfaction: Satisfacción del empleado con el entorno laboral (1: Bajo, 2: Medio, 3: Alto, 4: Muy alto). (Categórica ordinal)<br><br>\n",
        "Gender: Género del empleado (Masculino/Femenino). (Categórica)<br><br>\n",
        "HourlyRate: Tarifa por hora de pago del empleado. (Numérica)<br><br>\n",
        "JobInvolvement: Nivel de participación del empleado en su trabajo (1: Bajo, 2: Medio, 3: Alto, 4: Muy alto). (Categórica ordinal)<br><br>\n",
        "JobLevel: Nivel del puesto de trabajo del empleado (1: Bajo, 2: Medio, 3: Alto, etc.). (Categórica ordinal)<br><br>\n",
        "JobRole: Rol o cargo del empleado (por ejemplo, Representante de ventas, Gerente, Investigador). (Categórica)<br><br>\n",
        "JobSatisfaction: Satisfacción del empleado con su trabajo (1: Bajo, 2: Medio, 3: Alto, 4: Muy alto). (Categórica ordinal)<br><br>\n",
        "MaritalStatus: Estado civil del empleado (Soltero, Casado, Divorciado). (Categórica)<br><br>\n",
        "MonthlyIncome: Ingreso mensual del empleado. (Numérica)<br><br>\n",
        "MonthlyRate: Tarifa mensual de pago del empleado. (Numérica)<br><br>\n",
        "NumCompaniesWorked: Número de empresas en las que ha trabajado el empleado. (Numérica)<br><br>\n",
        "Over18: Si el empleado es mayor de 18 años o no (Sí/No). (Categórica)<br><br>\n",
        "OverTime: Si el empleado trabaja horas extras o no (Sí/No). (Categórica)<br><br>\n",
        "PercentSalaryHike: Porcentaje de aumento salarial del empleado. (Numérica)<br><br>\n",
        "PerformanceRating: Calificación de desempeño del empleado (1: Bajo, 2: Bueno, 3: Excelente, 4: Sobresaliente). (Categórica ordinal)<br><br>\n",
        "RelationshipSatisfaction: Satisfacción del empleado con sus relaciones laborales (1: Bajo, 2: Medio, 3: Alto, 4: Muy alto). (Categórica ordinal)<br><br>\n",
        "StandardHours: Horas estándar de trabajo del empleado. (Numérica)<br><br>\n",
        "StockOptionLevel: Nivel de opciones sobre acciones del empleado (0: Ninguna, 1: Bajo, 2: Medio, 3: Alto). (Categórica ordinal)<br><br>\n",
        "TotalWorkingYears: Total de años de experiencia laboral del empleado. (Numérica)<br><br>\n",
        "TrainingTimesLastYear: Número de veces que el empleado recibió capacitación el año pasado. (Numérica)<br><br>\n",
        "WorkLifeBalance: Equilibrio entre la vida laboral y personal del empleado (1: Malo, 2: Bueno, 3: Mejor, 4: Excelente). (Categórica ordinal)<br><br>\n",
        "YearsAtCompany: Años que el empleado ha estado en la empresa. (Numérica)<br><br>\n",
        "YearsInCurrentRole: Años que el empleado ha estado en su puesto actual. (Numérica)<br><br>\n",
        "YearsSinceLastPromotion: Años desde la última promoción del empleado. (Numérica)<br><br>\n",
        "YearsWithCurrManager: Años que el empleado ha estado con su gerente actual. (Numérica)<br><br>"
      ],
      "metadata": {
        "id": "1-KO6fzTacCj"
      }
    },
    {
      "source": [
        "float_cols = df.select_dtypes(include=['float64']).columns\n",
        "df[float_cols] = df[float_cols].astype(int)"
      ],
      "cell_type": "code",
      "metadata": {
        "id": "YO9Ymixqcany"
      },
      "execution_count": 11,
      "outputs": []
    },
    {
      "source": [
        "df.describe() # Para todas las variables numéricas\n",
        "df['Age'].mean() # Media de la edad\n",
        "df['MonthlyIncome'].median() # Mediana del ingreso mensual\n",
        "df['YearsAtCompany'].std() # Desviación estándar de los años en la empresa"
      ],
      "cell_type": "code",
      "metadata": {
        "colab": {
          "base_uri": "https://localhost:8080/"
        },
        "id": "xx4ZHDigcb-Y",
        "outputId": "888aed8f-a8c3-4314-9974-dab383f63f97"
      },
      "execution_count": 12,
      "outputs": [
        {
          "output_type": "execute_result",
          "data": {
            "text/plain": [
              "6.126525152403566"
            ]
          },
          "metadata": {},
          "execution_count": 12
        }
      ]
    },
    {
      "source": [
        "plt.hist(df['MonthlyIncome'], bins=10)\n",
        "plt.xlabel('Ingreso Mensual')\n",
        "plt.ylabel('Frecuencia')\n",
        "plt.title('Histograma de Ingreso Mensual')\n",
        "plt.show()\n",
        "\n",
        "df.boxplot(column=['YearsAtCompany']) # Boxplot de los años en la empresa\n",
        "plt.show()"
      ],
      "cell_type": "code",
      "metadata": {
        "colab": {
          "base_uri": "https://localhost:8080/",
          "height": 885
        },
        "id": "tbFspc58cdcf",
        "outputId": "e9150bda-bd02-4c61-b6e4-0969fc7756a4"
      },
      "execution_count": 18,
      "outputs": [
        {
          "output_type": "display_data",
          "data": {
            "text/plain": [
              "<Figure size 640x480 with 1 Axes>"
            ],
            "image/png": "[encoded data removed]"
          },
          "metadata": {}
        },
        {
          "output_type": "display_data",
          "data": {
            "text/plain": [
              "<Figure size 640x480 with 1 Axes>"
            ],
            "image/png": "[encoded data removed]"
          },
          "metadata": {}
        }
      ]
    },
    {
      "cell_type": "markdown",
      "source": [
        "El histograma muestra una distribución sesgada a la derecha (o positiva). Esto significa que la mayoría de los empleados tienen ingresos mensuales en el rango inferior, mientras que hay menos empleados con ingresos muy altos.<br><br>\n",
        "\n",
        "La mediana del boxplot nos indica que los empleados han pasado al menos 5 años dentro de la empresa <br><br>"
      ],
      "metadata": {
        "id": "JEREfl5weWHH"
      }
    },
    {
      "source": [
        "import seaborn as sns\n",
        "\n",
        "sns.countplot(x='Attrition', data=df) # Gráfico de barras de la variable Attrition\n",
        "plt.show()#La mayoría de los empleados no han dejado la empresa.\n",
        "#Hay una cantidad menor de empleados que sí han dejado la empresa\n",
        "#La rotación de empleados es relativamente baja, ya que la barra de la categoría \"No\" es mucho más alta que la barra de la categoría \"Yes\".\n",
        "\n",
        "sns.histplot(df['Age'], bins=10) # Histograma de la edad con 10 bins\n",
        "plt.show()\n",
        "#La mayoría de los empleados se encuentran en el rango de edad entre [aproximadamente 30-40 años].\n",
        "#Hay una menor cantidad de empleados en los rangos de edad más jóvenes y mayores.\n",
        "#La distribución de la edad es ligeramente asimétrica a la derecha, lo que indica una mayor concentración de empleados más jóvenes.\n",
        "\n",
        "sns.boxplot(x='Attrition', y='MonthlyIncome', data=df) # Boxplot del ingreso mensual por attrition\n",
        "plt.show()\n",
        "#La mediana del ingreso mensual para los empleados que se han ido es menor a la mediana para los empleados que se han quedado .\n",
        "\n",
        "pd.crosstab(df['Department'], df['Attrition']).plot(kind='bar') # Tabla de frecuencia cruzada de departamento y attrition\n",
        "plt.show()"
      ],
      "cell_type": "code",
      "metadata": {
        "colab": {
          "base_uri": "https://localhost:8080/",
          "height": 1000
        },
        "id": "GdJ0UnLUchDs",
        "outputId": "8e8dd904-7bde-4353-bf8f-89f671291d34"
      },
      "execution_count": 14,
      "outputs": [
        {
          "output_type": "display_data",
          "data": {
            "text/plain": [
              "<Figure size 640x480 with 1 Axes>"
            ],
            "image/png": "[encoded data removed]"
          },
          "metadata": {}
        },
        {
          "output_type": "display_data",
          "data": {
            "text/plain": [
              "<Figure size 640x480 with 1 Axes>"
            ],
            "image/png": "[encoded data removed]"
          },
          "metadata": {}
        },
        {
          "output_type": "display_data",
          "data": {
            "text/plain": [
              "<Figure size 640x480 with 1 Axes>"
            ],
            "image/png": "[encoded data removed]"
          },
          "metadata": {}
        },
        {
          "output_type": "display_data",
          "data": {
            "text/plain": [
              "<Figure size 640x480 with 1 Axes>"
            ],
            "image/png": "[encoded data removed]"
          },
          "metadata": {}
        }
      ]
    },
    {
      "source": [
        "Q1 = df['MonthlyIncome'].quantile(0.25)\n",
        "Q3 = df['MonthlyIncome'].quantile(0.75)\n",
        "IQR = Q3 - Q1\n",
        "lower_bound = Q1 - 1.5 * IQR\n",
        "upper_bound = Q3 + 1.5 * IQR\n",
        "outliers = df[(df['MonthlyIncome'] < lower_bound) | (df['MonthlyIncome'] > upper_bound)]\n",
        "print(outliers)"
      ],
      "cell_type": "code",
      "metadata": {
        "colab": {
          "base_uri": "https://localhost:8080/"
        },
        "id": "pXWKCO3ecjtF",
        "outputId": "fcd1218e-efcf-4be8-f8a7-67abb9f4ac9e"
      },
      "execution_count": 15,
      "outputs": [
        {
          "output_type": "stream",
          "name": "stdout",
          "text": [
            "      Age Attrition     BusinessTravel  DailyRate              Department  \\\n",
            "25     53        No      Travel_Rarely       1282  Research & Development   \n",
            "29     46        No      Travel_Rarely        705                   Sales   \n",
            "45     41       Yes      Travel_Rarely       1360  Research & Development   \n",
            "62     50        No      Travel_Rarely        989  Research & Development   \n",
            "105    59        No         Non-Travel       1420         Human Resources   \n",
            "...   ...       ...                ...        ...                     ...   \n",
            "1374   58        No      Travel_Rarely        605                   Sales   \n",
            "1377   49        No  Travel_Frequently       1064  Research & Development   \n",
            "1401   55        No      Travel_Rarely        189         Human Resources   \n",
            "1437   39        No         Non-Travel        105  Research & Development   \n",
            "1443   42        No      Travel_Rarely        300  Research & Development   \n",
            "\n",
            "      DistanceFromHome  Education    EducationField  EmployeeCount  \\\n",
            "25                   5          3             Other              1   \n",
            "29                   2          4         Marketing              1   \n",
            "45                  12          3  Technical Degree              1   \n",
            "62                   7          2           Medical              1   \n",
            "105                  2          4   Human Resources              1   \n",
            "...                ...        ...               ...            ...   \n",
            "1374                21          3     Life Sciences              1   \n",
            "1377                 2          1     Life Sciences              1   \n",
            "1401                26          4   Human Resources              1   \n",
            "1437                 9          3     Life Sciences              1   \n",
            "1443                 2          3     Life Sciences              1   \n",
            "\n",
            "      EmployeeNumber  ...  RelationshipSatisfaction StandardHours  \\\n",
            "25                32  ...                         4            80   \n",
            "29                38  ...                         4            80   \n",
            "45                58  ...                         4            80   \n",
            "62                80  ...                         4            80   \n",
            "105              140  ...                         4            80   \n",
            "...              ...  ...                       ...           ...   \n",
            "1374            1938  ...                         3            80   \n",
            "1377            1941  ...                         4            80   \n",
            "1401            1973  ...                         1            80   \n",
            "1437            2022  ...                         3            80   \n",
            "1443            2031  ...                         1            80   \n",
            "\n",
            "      StockOptionLevel  TotalWorkingYears  TrainingTimesLastYear  \\\n",
            "25                   1                 26                      3   \n",
            "29                   0                 22                      2   \n",
            "45                   0                 23                      0   \n",
            "62                   1                 29                      2   \n",
            "105                  1                 30                      3   \n",
            "...                ...                ...                    ...   \n",
            "1374                 1                 29                      2   \n",
            "1377                 0                 28                      3   \n",
            "1401                 1                 35                      0   \n",
            "1437                 0                 21                      3   \n",
            "1443                 0                 24                      2   \n",
            "\n",
            "     WorkLifeBalance  YearsAtCompany YearsInCurrentRole  \\\n",
            "25                 2              14                 13   \n",
            "29                 2               2                  2   \n",
            "45                 3              22                 15   \n",
            "62                 2              27                  3   \n",
            "105                3               3                  2   \n",
            "...              ...             ...                ...   \n",
            "1374               2               1                  0   \n",
            "1377               3               5                  4   \n",
            "1401               3              10                  9   \n",
            "1437               2               6                  0   \n",
            "1443               2              22                  6   \n",
            "\n",
            "      YearsSinceLastPromotion  YearsWithCurrManager  \n",
            "25                          4                     8  \n",
            "29                          2                     1  \n",
            "45                         15                     8  \n",
            "62                         13                     8  \n",
            "105                         2                     2  \n",
            "...                       ...                   ...  \n",
            "1374                        0                     0  \n",
            "1377                        4                     3  \n",
            "1401                        1                     4  \n",
            "1437                        1                     3  \n",
            "1443                        4                    14  \n",
            "\n",
            "[114 rows x 35 columns]\n"
          ]
        }
      ]
    },
    {
      "cell_type": "markdown",
      "source": [
        "Los empleados que se han ido tienden a ser más jóvenes o tener un salario diario más bajo que los que se han quedado."
      ],
      "metadata": {
        "id": "OlmF_eZynxuS"
      }
    }
  ]
}